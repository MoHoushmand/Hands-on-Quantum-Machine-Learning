{
 "cells": [
  {
   "cell_type": "markdown",
   "metadata": {},
   "source": [
    "Before you begin, execute this cell to import numpy and packages from the D-Wave Ocean suite, and all necessary functions for the gate-model framework you are going to use, whether that is the Forest SDK or Qiskit. In the case of Forest SDK, it also starts the qvm and quilc servers."
   ]
  },
  {
   "cell_type": "code",
   "execution_count": 1,
   "metadata": {
    "ExecuteTime": {
     "end_time": "2019-02-01T20:28:41.436161Z",
     "start_time": "2019-02-01T20:28:40.764021Z"
    }
   },
   "outputs": [
    {
     "name": "stdout",
     "output_type": "stream",
     "text": [
      "Available frameworks:\n",
      "Forest SDK\n",
      "Qiskit\n",
      "D-Wave Ocean\n"
     ]
    }
   ],
   "source": [
    "%run -i \"assignment_helper.py\"\n",
    "%matplotlib inline"
   ]
  },
  {
   "cell_type": "markdown",
   "metadata": {},
   "source": [
    "# Mapping clustering to discrete optimization\n",
    "\n",
    "We will have $\\{x_i\\}_{i=1}^N$ points lying in two distant regions:"
   ]
  },
  {
   "cell_type": "code",
   "execution_count": 2,
   "metadata": {
    "ExecuteTime": {
     "end_time": "2019-02-01T20:48:40.643798Z",
     "start_time": "2019-02-01T20:48:40.594636Z"
    }
   },
   "outputs": [
    {
     "data": {
      "text/plain": [
       "<matplotlib.collections.PathCollection at 0x7f9fa046db00>"
      ]
     },
     "execution_count": 2,
     "metadata": {},
     "output_type": "execute_result"
    },
    {
     "data": {
      "image/png": "[encoded data removed]",
      "text/plain": [
       "<Figure size 432x288 with 1 Axes>"
      ]
     },
     "metadata": {},
     "output_type": "display_data"
    }
   ],
   "source": [
    "import matplotlib.pyplot as plt\n",
    "np.set_printoptions(precision=3, suppress=True)\n",
    "np.random.seed(0)\n",
    "\n",
    "# Generating the data\n",
    "c1 = np.random.rand(2, 2)/5\n",
    "c2 = (-1.6, 1.5) + np.random.rand(2, 2)/5\n",
    "data = np.concatenate((c1, c2))\n",
    "plt.subplot(111, xticks=[], yticks=[])\n",
    "plt.scatter(data[:, 0], data[:, 1], color='navy')"
   ]
  },
  {
   "cell_type": "markdown",
   "metadata": {},
   "source": [
    "**Exercise 1** (3 points). The unsupervised task is identify this structure. The challenge is that if we have a high number of points compared to the number of qubits and their connections, we won't be able to solve the problem. So if we blindly follow the idea of mapping the problem to max-cut using the Eucledian distance and then solve it by some quantum optimization method, we would run out of qubit connections for this problem. We can, however, choose to be clever about how we calculate the distances classically. This is a common trick: since we are doing hybrid classical-quantum algorithms anyway, we might as well do the classical parts wisely.\n",
    "\n",
    "In this case, we might rely on some form of [exploratory data analysis](https://en.wikipedia.org/wiki/Exploratory_data_analysis) to get a sense of the distances in the dataset. This is an easy case, since we just plotted the two-dimensional data, and we see that the density within a blob is high. You can make the task easier by thresholding the distances. Use any distance function you wish (even the Euclidean distance will do) and set distances to zero that are below a threshold you calculate. The threshold should be such that all of the distances within a blob will be set to zero. Store the symmetrix distance matrix in a two-dimensional numpy array called `w`."
   ]
  },
  {
   "cell_type": "code",
   "execution_count": 3,
   "metadata": {
    "ExecuteTime": {
     "end_time": "2019-02-01T20:27:38.349707Z",
     "start_time": "2019-02-01T20:27:38.341177Z"
    },
    "collapsed": true
   },
   "outputs": [],
   "source": [
    "import itertools\n",
    "\n",
    "n_instances = data.shape[0]\n",
    "###\n",
    "### YOUR CODE HERE\n",
    "###\n",
    "w = np.zeros((n_instances, n_instances))\n",
    "for i, j in itertools.product(*[range(n_instances)]*2):\n",
    "    dist_ij = np.linalg.norm(data[i]-data[j])\n",
    "    w[i, j] = np.linalg.norm(data[i]-data[j]) * (dist_ij>0.5)"
   ]
  },
  {
   "cell_type": "code",
   "execution_count": 4,
   "metadata": {
    "ExecuteTime": {
     "end_time": "2019-02-01T20:28:25.104088Z",
     "start_time": "2019-02-01T20:28:25.099798Z"
    },
    "collapsed": true,
    "deletable": false,
    "editable": false,
    "nbgrader": {
     "grade": true,
     "grade_id": "exercise1",
     "locked": true,
     "points": "3",
     "solution": false
    }
   },
   "outputs": [],
   "source": [
    "labels = np.array([0, 0, 1, 1])\n",
    "assert np.alltrue(w == w.T)\n",
    "assert np.alltrue(w >= 0)\n",
    "assert (w[labels==0][:, labels==0]==0).sum() == 4\n",
    "assert (w[labels==1][:, labels==1]==0).sum() == 4"
   ]
  },
  {
   "cell_type": "markdown",
   "metadata": {},
   "source": [
    "# Solving the max-cut problem by QAOA\n",
    "\n",
    "**Exercise 2** (2 points). From here, it is rather formulaic to create the max-cut as an Ising Hamiltonian and solve either by annealing or by some variational circuit like QAOA. Set up the QAOA problem in your chosen framework and an optimization function. Import all necessary functions you need. Call the object `qaoa`. We set the `p` parameter of the QAOA to 1."
   ]
  },
  {
   "cell_type": "code",
   "execution_count": 8,
   "metadata": {
    "ExecuteTime": {
     "end_time": "2019-02-01T21:29:46.241563Z",
     "start_time": "2019-02-01T21:29:46.224360Z"
    }
   },
   "outputs": [],
   "source": [
    "p = 1\n",
    "###\n",
    "### YOUR CODE HERE\n",
    "###\n",
    "from grove.pyqaoa.qaoa import QAOA\n",
    "from scipy.optimize import fmin_bfgs\n",
    "\n",
    "qvm_server, quilc_server, fc = init_qvm_and_quilc('/home/local/bin/qvm', '/home/local/bin/quilc')\n",
    "qvm = pyquil.api.QVMConnection(endpoint=fc.sync_endpoint, compiler_endpoint=fc.compiler_endpoint)\n",
    "\n",
    "maxcut_model = []\n",
    "for i in range(n_instances):\n",
    "    for j in range(i+1, n_instances):\n",
    "        maxcut_model.append(PauliSum([PauliTerm(\"Z\", i, 1/4 * w[i, j]) * PauliTerm(\"Z\", j, 1.0)]))\n",
    "        maxcut_model.append(PauliSum([PauliTerm(\"I\", i, -1/4)]))\n",
    "\n",
    "Hm = [PauliSum([PauliTerm(\"X\", i, 1.0)]) for i in range(n_instances)]\n",
    "qaoa = QAOA(qvm,\n",
    "            qubits=range(n_instances),\n",
    "            steps=p,\n",
    "            ref_ham=Hm, cost_ham=maxcut_model, store_basis=True,\n",
    "            minimizer=fmin_bfgs, minimizer_kwargs={'maxiter': 50})"
   ]
  },
  {
   "cell_type": "markdown",
   "metadata": {},
   "source": [
    "Setting $p=1$ in the QAOA algorithm, we can initialize it with the max-cut problem."
   ]
  },
  {
   "cell_type": "code",
   "execution_count": 9,
   "metadata": {
    "ExecuteTime": {
     "end_time": "2019-02-01T21:17:37.687655Z",
     "start_time": "2019-02-01T21:17:37.680171Z"
    },
    "deletable": false,
    "editable": false,
    "nbgrader": {
     "grade": true,
     "grade_id": "exercise2",
     "locked": true,
     "points": "2",
     "solution": false
    }
   },
   "outputs": [],
   "source": [
    "if isinstance(qaoa, qiskit.aqua.algorithms.adaptive.qaoa.qaoa.QAOA):\n",
    "    assert qaoa._operator.num_qubits == 4\n",
    "elif isinstance(qaoa, grove.pyqaoa.qaoa.QAOA):\n",
    "    assert len(qaoa.ref_ham) == 4\n",
    "    assert all([qaoa.ref_ham[i].terms[0].compact_str() == '(1+0j)*X{}'.format(i) for i in range(4)])\n",
    "    assert len(qaoa.cost_ham) == 12\n",
    "else:\n",
    "    raise ValueError(\"Unknown type for Hamiltonian!\")"
   ]
  },
  {
   "cell_type": "markdown",
   "metadata": {},
   "source": [
    "**Exercise 3** (2 points). Run the QAOA on a simulator. Store the outcome in an object called `result`. In the case of the Forest SDK, this will store the return value of the `run_and_measure` method of the QVM. In the case of Qiskit, it will be the return value of the `run` method of the `qaoa` object."
   ]
  },
  {
   "cell_type": "code",
   "execution_count": 10,
   "metadata": {
    "ExecuteTime": {
     "end_time": "2019-02-01T21:24:52.709677Z",
     "start_time": "2019-02-01T21:24:50.825360Z"
    }
   },
   "outputs": [
    {
     "name": "stdout",
     "output_type": "stream",
     "text": [
      "WARNING: Fast method for expectation will be used. Noise\n",
      "                     models will be ineffective\n",
      "Optimization terminated successfully.\n",
      "         Current function value: -2.615451\n",
      "         Iterations: 10\n",
      "         Function evaluations: 64\n",
      "         Gradient evaluations: 16\n"
     ]
    }
   ],
   "source": [
    "###\n",
    "### YOUR CODE HERE\n",
    "###\n",
    "nu, gamma = qaoa.get_angles()\n",
    "program = qaoa.get_parameterized_program()(np.hstack((nu, gamma)))\n",
    "result = qvm.run_and_measure(program, range(n_instances), trials=100)"
   ]
  },
  {
   "cell_type": "code",
   "execution_count": 11,
   "metadata": {
    "ExecuteTime": {
     "end_time": "2019-02-01T21:28:58.162057Z",
     "start_time": "2019-02-01T21:28:58.157118Z"
    },
    "collapsed": true,
    "deletable": false,
    "editable": false,
    "nbgrader": {
     "grade": true,
     "grade_id": "exercise3",
     "locked": true,
     "points": "2",
     "solution": false
    }
   },
   "outputs": [],
   "source": [
    "ground_truth1 = [0, 0, 1, 1]\n",
    "ground_truth2 = [1, 1, 0, 0]\n",
    "if isinstance(result, list):\n",
    "    count = np.unique(result, return_counts=True, axis=0)\n",
    "    solution = count[0][np.argmax(count[1])]\n",
    "    assert abs(sum(solution == ground_truth1)-4) <= 1 or abs(sum(solution == ground_truth2)-4) <= 1\n",
    "else:\n",
    "    x = max_cut.sample_most_likely(result['eigvecs'][0])\n",
    "    solution = max_cut.get_graph_solution(x)\n",
    "    assert abs(sum(solution == ground_truth1)-4) <= 1 or abs(sum(solution == ground_truth2)-4) <= 1"
   ]
  },
  {
   "cell_type": "code",
   "execution_count": null,
   "metadata": {
    "collapsed": true
   },
   "outputs": [],
   "source": []
  }
 ],
 "metadata": {
  "kernelspec": {
   "display_name": "Python 3 [3.6]",
   "language": "python",
   "name": "python3"
  },
  "language_info": {
   "codemirror_mode": {
    "name": "ipython",
    "version": 3
   },
   "file_extension": ".py",
   "mimetype": "text/x-python",
   "name": "python",
   "nbconvert_exporter": "python",
   "pygments_lexer": "ipython3",
   "version": "3.6.4"
  },
  "varInspector": {
   "cols": {
    "lenName": 16,
    "lenType": 16,
    "lenVar": 40
   },
   "kernels_config": {
    "python": {
     "delete_cmd_postfix": "",
     "delete_cmd_prefix": "del ",
     "library": "var_list.py",
     "varRefreshCmd": "print(var_dic_list())"
    },
    "r": {
     "delete_cmd_postfix": ") ",
     "delete_cmd_prefix": "rm(",
     "library": "var_list.r",
     "varRefreshCmd": "cat(var_dic_list()) "
    }
   },
   "types_to_exclude": [
    "module",
    "function",
    "builtin_function_or_method",
    "instance",
    "_Feature"
   ],
   "window_display": false
  }
 },
 "nbformat": 4,
 "nbformat_minor": 2
}
